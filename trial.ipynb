{
 "cells": [
  {
   "cell_type": "code",
   "execution_count": 1,
   "metadata": {},
   "outputs": [
    {
     "name": "stdout",
     "output_type": "stream",
     "text": [
      "<class 'pandas.core.frame.DataFrame'>\n",
      "DatetimeIndex: 525601 entries, 2017-01-01 00:00:00 to 2018-01-01 00:00:00\n",
      "Data columns (total 6 columns):\n",
      " #   Column    Non-Null Count   Dtype  \n",
      "---  ------    --------------   -----  \n",
      " 0   PV_Power  198730 non-null  float64\n",
      " 1   T_air     520747 non-null  float64\n",
      " 2   G_h       520747 non-null  float64\n",
      " 3   G_tilt    520747 non-null  float64\n",
      " 4   W_s       520747 non-null  float64\n",
      " 5   W_d       520747 non-null  float64\n",
      "dtypes: float64(6)\n",
      "memory usage: 28.1 MB\n",
      "None\n"
     ]
    }
   ],
   "source": [
    "import pandas as pd\n",
    "\n",
    "\n",
    "file_path = 'Dataset-SolarTechLab.csv'\n",
    "solar_data = pd.read_csv(\n",
    "    file_path,\n",
    "    sep=';',  \n",
    "    index_col=[0],  \n",
    "    parse_dates=[0]  \n",
    ")\n",
    "\n",
    "print(solar_data.info())  \n"
   ]
  },
  {
   "cell_type": "code",
   "execution_count": 2,
   "metadata": {},
   "outputs": [
    {
     "data": {
      "text/plain": [
       "PV_Power    326871\n",
       "T_air         4854\n",
       "G_h           4854\n",
       "G_tilt        4854\n",
       "W_s           4854\n",
       "W_d           4854\n",
       "dtype: int64"
      ]
     },
     "execution_count": 2,
     "metadata": {},
     "output_type": "execute_result"
    }
   ],
   "source": [
    "nan_counts = solar_data.isna().sum()  \n",
    "nan_counts\n"
   ]
  },
  {
   "cell_type": "code",
   "execution_count": 3,
   "metadata": {},
   "outputs": [
    {
     "data": {
      "text/html": [
       "<div>\n",
       "<style scoped>\n",
       "    .dataframe tbody tr th:only-of-type {\n",
       "        vertical-align: middle;\n",
       "    }\n",
       "\n",
       "    .dataframe tbody tr th {\n",
       "        vertical-align: top;\n",
       "    }\n",
       "\n",
       "    .dataframe thead th {\n",
       "        text-align: right;\n",
       "    }\n",
       "</style>\n",
       "<table border=\"1\" class=\"dataframe\">\n",
       "  <thead>\n",
       "    <tr style=\"text-align: right;\">\n",
       "      <th></th>\n",
       "      <th>PV_Power</th>\n",
       "      <th>T_air</th>\n",
       "      <th>G_h</th>\n",
       "      <th>G_tilt</th>\n",
       "      <th>W_s</th>\n",
       "      <th>W_d</th>\n",
       "    </tr>\n",
       "    <tr>\n",
       "      <th>Time</th>\n",
       "      <th></th>\n",
       "      <th></th>\n",
       "      <th></th>\n",
       "      <th></th>\n",
       "      <th></th>\n",
       "      <th></th>\n",
       "    </tr>\n",
       "  </thead>\n",
       "  <tbody>\n",
       "    <tr>\n",
       "      <th>2017-01-01 00:00:00</th>\n",
       "      <td>NaN</td>\n",
       "      <td>0.74</td>\n",
       "      <td>0.0</td>\n",
       "      <td>0.0</td>\n",
       "      <td>0.30</td>\n",
       "      <td>296.4</td>\n",
       "    </tr>\n",
       "    <tr>\n",
       "      <th>2017-01-01 00:01:00</th>\n",
       "      <td>NaN</td>\n",
       "      <td>0.67</td>\n",
       "      <td>0.0</td>\n",
       "      <td>0.0</td>\n",
       "      <td>0.47</td>\n",
       "      <td>269.2</td>\n",
       "    </tr>\n",
       "    <tr>\n",
       "      <th>2017-01-01 00:02:00</th>\n",
       "      <td>NaN</td>\n",
       "      <td>0.57</td>\n",
       "      <td>0.0</td>\n",
       "      <td>0.0</td>\n",
       "      <td>0.84</td>\n",
       "      <td>265.3</td>\n",
       "    </tr>\n",
       "    <tr>\n",
       "      <th>2017-01-01 00:03:00</th>\n",
       "      <td>NaN</td>\n",
       "      <td>0.53</td>\n",
       "      <td>0.0</td>\n",
       "      <td>0.0</td>\n",
       "      <td>0.63</td>\n",
       "      <td>275.4</td>\n",
       "    </tr>\n",
       "    <tr>\n",
       "      <th>2017-01-01 00:04:00</th>\n",
       "      <td>NaN</td>\n",
       "      <td>0.53</td>\n",
       "      <td>0.0</td>\n",
       "      <td>0.0</td>\n",
       "      <td>0.58</td>\n",
       "      <td>265.3</td>\n",
       "    </tr>\n",
       "    <tr>\n",
       "      <th>...</th>\n",
       "      <td>...</td>\n",
       "      <td>...</td>\n",
       "      <td>...</td>\n",
       "      <td>...</td>\n",
       "      <td>...</td>\n",
       "      <td>...</td>\n",
       "    </tr>\n",
       "    <tr>\n",
       "      <th>2017-12-31 23:56:00</th>\n",
       "      <td>NaN</td>\n",
       "      <td>2.91</td>\n",
       "      <td>0.0</td>\n",
       "      <td>0.0</td>\n",
       "      <td>0.41</td>\n",
       "      <td>68.2</td>\n",
       "    </tr>\n",
       "    <tr>\n",
       "      <th>2017-12-31 23:57:00</th>\n",
       "      <td>NaN</td>\n",
       "      <td>2.85</td>\n",
       "      <td>0.0</td>\n",
       "      <td>0.0</td>\n",
       "      <td>1.01</td>\n",
       "      <td>42.8</td>\n",
       "    </tr>\n",
       "    <tr>\n",
       "      <th>2017-12-31 23:58:00</th>\n",
       "      <td>NaN</td>\n",
       "      <td>2.83</td>\n",
       "      <td>0.0</td>\n",
       "      <td>0.0</td>\n",
       "      <td>1.22</td>\n",
       "      <td>46.6</td>\n",
       "    </tr>\n",
       "    <tr>\n",
       "      <th>2017-12-31 23:59:00</th>\n",
       "      <td>NaN</td>\n",
       "      <td>2.84</td>\n",
       "      <td>0.0</td>\n",
       "      <td>0.0</td>\n",
       "      <td>0.95</td>\n",
       "      <td>63.8</td>\n",
       "    </tr>\n",
       "    <tr>\n",
       "      <th>2018-01-01 00:00:00</th>\n",
       "      <td>NaN</td>\n",
       "      <td>NaN</td>\n",
       "      <td>NaN</td>\n",
       "      <td>NaN</td>\n",
       "      <td>NaN</td>\n",
       "      <td>NaN</td>\n",
       "    </tr>\n",
       "  </tbody>\n",
       "</table>\n",
       "<p>525601 rows × 6 columns</p>\n",
       "</div>"
      ],
      "text/plain": [
       "                     PV_Power  T_air  G_h  G_tilt   W_s    W_d\n",
       "Time                                                          \n",
       "2017-01-01 00:00:00       NaN   0.74  0.0     0.0  0.30  296.4\n",
       "2017-01-01 00:01:00       NaN   0.67  0.0     0.0  0.47  269.2\n",
       "2017-01-01 00:02:00       NaN   0.57  0.0     0.0  0.84  265.3\n",
       "2017-01-01 00:03:00       NaN   0.53  0.0     0.0  0.63  275.4\n",
       "2017-01-01 00:04:00       NaN   0.53  0.0     0.0  0.58  265.3\n",
       "...                       ...    ...  ...     ...   ...    ...\n",
       "2017-12-31 23:56:00       NaN   2.91  0.0     0.0  0.41   68.2\n",
       "2017-12-31 23:57:00       NaN   2.85  0.0     0.0  1.01   42.8\n",
       "2017-12-31 23:58:00       NaN   2.83  0.0     0.0  1.22   46.6\n",
       "2017-12-31 23:59:00       NaN   2.84  0.0     0.0  0.95   63.8\n",
       "2018-01-01 00:00:00       NaN    NaN  NaN     NaN   NaN    NaN\n",
       "\n",
       "[525601 rows x 6 columns]"
      ]
     },
     "execution_count": 3,
     "metadata": {},
     "output_type": "execute_result"
    }
   ],
   "source": [
    "solar_data"
   ]
  },
  {
   "cell_type": "code",
   "execution_count": 8,
   "metadata": {},
   "outputs": [
    {
     "data": {
      "image/png": "[encoded data removed]",
      "text/plain": [
       "<Figure size 640x480 with 1 Axes>"
      ]
     },
     "metadata": {},
     "output_type": "display_data"
    }
   ],
   "source": [
    "import matplotlib.pyplot as plt\n",
    "solar_data['PV_Power'].plot()\n",
    "plt.title('PV Power Over Time')\n",
    "plt.xlabel('Time')\n",
    "plt.ylabel('PV Power')\n",
    "plt.show()"
   ]
  },
  {
   "cell_type": "code",
   "execution_count": 12,
   "metadata": {},
   "outputs": [
    {
     "data": {
      "text/plain": [
       "np.int64(19165)"
      ]
     },
     "execution_count": 12,
     "metadata": {},
     "output_type": "execute_result"
    }
   ],
   "source": [
    "# ... existing code ...\n",
    "april_data = solar_data.loc['2017-04-01':'2017-04-30']  # Filter data for April 2017 using loc\n",
    "april_datapoints_count = april_data['PV_Power'].count()  # Count non-NaN entries in PV_Power\n",
    "april_datapoints_count"
   ]
  }
 ],
 "metadata": {
  "kernelspec": {
   "display_name": "venv",
   "language": "python",
   "name": "python3"
  },
  "language_info": {
   "codemirror_mode": {
    "name": "ipython",
    "version": 3
   },
   "file_extension": ".py",
   "mimetype": "text/x-python",
   "name": "python",
   "nbconvert_exporter": "python",
   "pygments_lexer": "ipython3",
   "version": "3.12.7"
  }
 },
 "nbformat": 4,
 "nbformat_minor": 2
}
