{
 "cells": [
  {
   "cell_type": "code",
   "execution_count": 2,
   "metadata": {},
   "outputs": [],
   "source": [
    "from pvodataset import PVODataset, UDFClass, QCfunc\n",
    "import pandas as pd"
   ]
  },
  {
   "cell_type": "code",
   "execution_count": 3,
   "metadata": {},
   "outputs": [
    {
     "name": "stdout",
     "output_type": "stream",
     "text": [
      "Welcome to PVODataset (PVOD).\n"
     ]
    }
   ],
   "source": [
    "# load PV output Dataset\n",
    "pvod = PVODataset(path=\"../datasets/\",timezone=\"UTC+8\")"
   ]
  },
  {
   "cell_type": "code",
   "execution_count": null,
   "metadata": {},
   "outputs": [],
   "source": [
    "# show basic information of PV output Dataset\n",
    "pvod.info()"
   ]
  },
  {
   "cell_type": "code",
   "execution_count": null,
   "metadata": {},
   "outputs": [],
   "source": [
    "# show all files\n",
    "files = pvod.show_files()\n",
    "files"
   ]
  },
  {
   "cell_type": "code",
   "execution_count": null,
   "metadata": {},
   "outputs": [],
   "source": [
    "# load metadata\n",
    "metadata = pvod.read_metadata()\n",
    "metadata"
   ]
  },
  {
   "cell_type": "code",
   "execution_count": 4,
   "metadata": {},
   "outputs": [
    {
     "ename": "AttributeError",
     "evalue": "'PVODataset' object has no attribute 'metadata'",
     "output_type": "error",
     "traceback": [
      "\u001b[1;31m---------------------------------------------------------------------------\u001b[0m",
      "\u001b[1;31mAttributeError\u001b[0m                            Traceback (most recent call last)",
      "Cell \u001b[1;32mIn[4], line 4\u001b[0m\n\u001b[0;32m      1\u001b[0m \u001b[38;5;66;03m# load selected station original data\u001b[39;00m\n\u001b[0;32m      2\u001b[0m \u001b[38;5;66;03m# pd.set_option('display.max_columns', 5)\u001b[39;00m\n\u001b[1;32m----> 4\u001b[0m ori_data \u001b[38;5;241m=\u001b[39m \u001b[43mpvod\u001b[49m\u001b[38;5;241;43m.\u001b[39;49m\u001b[43mread_ori_data\u001b[49m\u001b[43m(\u001b[49m\u001b[43mstation_id\u001b[49m\u001b[38;5;241;43m=\u001b[39;49m\u001b[38;5;241;43m3\u001b[39;49m\u001b[43m)\u001b[49m\n\u001b[0;32m      5\u001b[0m ori_data\n",
      "File \u001b[1;32mc:\\Users\\giuli\\Repositories\\aee_2425\\plswork\\src\\pvodataset.py:55\u001b[0m, in \u001b[0;36mPVODataset.read_ori_data\u001b[1;34m(self, station_id)\u001b[0m\n\u001b[0;32m     51\u001b[0m \u001b[38;5;28;01mdef\u001b[39;00m \u001b[38;5;21mread_ori_data\u001b[39m(\u001b[38;5;28mself\u001b[39m, station_id):\n\u001b[0;32m     52\u001b[0m \u001b[38;5;250m    \u001b[39m\u001b[38;5;124;03m\"\"\"\u001b[39;00m\n\u001b[0;32m     53\u001b[0m \u001b[38;5;124;03m    timezone : \"UTC\" or \"UTC+8\"(Asian/Shanghai)\u001b[39;00m\n\u001b[0;32m     54\u001b[0m \u001b[38;5;124;03m    \"\"\"\u001b[39;00m\n\u001b[1;32m---> 55\u001b[0m     ori_data \u001b[38;5;241m=\u001b[39m pd\u001b[38;5;241m.\u001b[39mread_csv(\u001b[38;5;28mself\u001b[39m\u001b[38;5;241m.\u001b[39mpath \u001b[38;5;241m+\u001b[39m \u001b[38;5;28;43mself\u001b[39;49m\u001b[38;5;241;43m.\u001b[39;49m\u001b[43mmetadata\u001b[49m[\u001b[38;5;124m\"\u001b[39m\u001b[38;5;124mStation_ID\u001b[39m\u001b[38;5;124m\"\u001b[39m][station_id] \u001b[38;5;241m+\u001b[39m \u001b[38;5;124m'\u001b[39m\u001b[38;5;124m.csv\u001b[39m\u001b[38;5;124m'\u001b[39m)\n\u001b[0;32m     56\u001b[0m     \u001b[38;5;28;01mif\u001b[39;00m \u001b[38;5;28mself\u001b[39m\u001b[38;5;241m.\u001b[39mtz \u001b[38;5;241m==\u001b[39m \u001b[38;5;124m\"\u001b[39m\u001b[38;5;124mUTC+8\u001b[39m\u001b[38;5;124m\"\u001b[39m:\n\u001b[0;32m     57\u001b[0m         ori_data \u001b[38;5;241m=\u001b[39m \u001b[38;5;28mself\u001b[39m\u001b[38;5;241m.\u001b[39mutc_2_pk_pvod(ori_data)\n",
      "\u001b[1;31mAttributeError\u001b[0m: 'PVODataset' object has no attribute 'metadata'"
     ]
    }
   ],
   "source": [
    "# load selected station original data\n",
    "# pd.set_option('display.max_columns', 5)\n",
    "\n",
    "ori_data = pvod.read_ori_data(station_id=3)\n",
    "ori_data"
   ]
  },
  {
   "cell_type": "code",
   "execution_count": null,
   "metadata": {},
   "outputs": [],
   "source": [
    "# select feature (Power) slice \n",
    "ori_data[\"power\"][128:256]"
   ]
  },
  {
   "cell_type": "code",
   "execution_count": null,
   "metadata": {},
   "outputs": [],
   "source": [
    "%matplotlib inline\n",
    "import matplotlib.pyplot as plt\n",
    "\n",
    "plt.figure()\n",
    "plt.plot(ori_data[\"nwp_globalirrad\"][128:256], 'b-.')\n",
    "plt.plot(ori_data[\"lmd_totalirrad\"][128:256],  'r-.')\n",
    "\n",
    "plt.ylabel('Sample')\n",
    "plt.xlabel('Index')\n",
    "\n",
    "plt.show()"
   ]
  },
  {
   "cell_type": "code",
   "execution_count": null,
   "metadata": {},
   "outputs": [],
   "source": [
    "ori_data.keys()"
   ]
  },
  {
   "cell_type": "code",
   "execution_count": null,
   "metadata": {},
   "outputs": [],
   "source": [
    "station01_info = pvod.station_info(station_id=5)\n",
    "station01_info"
   ]
  },
  {
   "cell_type": "code",
   "execution_count": null,
   "metadata": {},
   "outputs": [],
   "source": [
    "# select data within date range \n",
    "pd.set_option('display.max_columns', 4)\n",
    "\n",
    "t1 = '2019/3/05 08:30'\n",
    "t2 = '2019/5/20 17:00'\n",
    "slice_data = pvod.select_daterange(station_id=5, start_date=t1, end_date=t2)\n",
    "slice_data"
   ]
  },
  {
   "cell_type": "code",
   "execution_count": null,
   "metadata": {},
   "outputs": [],
   "source": [
    "# data intersection between 2 PV stations\n",
    "start, end = pvod.date_intersection(station_id_a=3, station_id_b=9)\n",
    "start, end"
   ]
  },
  {
   "cell_type": "code",
   "execution_count": null,
   "metadata": {},
   "outputs": [],
   "source": [
    "ori_data = pvod.read_ori_data(station_id=3)\n",
    "ori_data\n",
    "train_data, test_data = pvod.split_data(xy=ori_data, mode=\"end_order\", ratio=0.8)\n",
    "print(f\"train :\\n {train_data} \\n=========================\\\n",
    "        test:\\n {test_data}, \\n\\=========================\\\n",
    "        len_train: {len(train_data)}, len_test: {len(test_data)}\")"
   ]
  },
  {
   "cell_type": "code",
   "execution_count": null,
   "metadata": {},
   "outputs": [],
   "source": [
    "users_func = UDFClass()\n",
    "users_func.calcuate(station_id=1, param0='Panel_Size', param1='Panel_Number')\n",
    "users_func.get_id_metedata(1)"
   ]
  },
  {
   "cell_type": "code",
   "execution_count": null,
   "metadata": {},
   "outputs": [],
   "source": [
    "ori_data.keys()"
   ]
  },
  {
   "cell_type": "code",
   "execution_count": null,
   "metadata": {},
   "outputs": [],
   "source": [
    "ori_data0 = pvod.read_ori_data(3)\n",
    "ori_data2 = pvod.read_ori_data(6)\n",
    "start, end = 0, 900\n",
    "datet = ori_data2[\"date_time\"][start:end]\n",
    "datet = [str(i)[:-3] for i in datet]\n",
    "tmp_t = [datet[i] for i in list(range(start,end,96))]\n",
    "\n",
    "import matplotlib.pyplot as plt\n",
    "plt.rc('font',family='Times New Roman')\n",
    "plt.figure(figsize=(24,8),dpi=300)\n",
    "\n",
    "fs = 12\n",
    "\n",
    "\n",
    "\n",
    "line0, = plt.plot(ori_data0[\"power\"][start:end], color='#D94E5D', linestyle='--')\n",
    "line1, = plt.plot(ori_data2[\"power\"][start:end], color='blue', linestyle='-.', linewidth=1)\n",
    "\n",
    "plt.legend(handles=[line0, line1], labels=['Station03','Station06'], loc='upper right',fontsize=fs)\n",
    "plt.xticks(list(range(start,end,96)), tmp_t)\n",
    "# plt.ylim(0.5,1)\n",
    "\n",
    "plt.grid(ls='--')\n",
    "plt.xlim(0,end)\n",
    "plt.yticks(size = fs)\n",
    "plt.xticks(size = fs)\n",
    "plt.ylabel('Power (W/M^2)',fontsize=fs)\n",
    "plt.xlabel('Time step (15-min )',fontsize=fs)\n",
    "plt.savefig('./power.pdf',bbox_inches='tight',format='pdf')\n",
    "plt.show()\n"
   ]
  },
  {
   "cell_type": "code",
   "execution_count": null,
   "metadata": {},
   "outputs": [],
   "source": [
    "# load PV output Dataset after QC\n",
    "pvod2 = PVODataset(path=\"../datasets/\",timezone=\"UTC+8\", qc=True)\n"
   ]
  },
  {
   "cell_type": "code",
   "execution_count": null,
   "metadata": {},
   "outputs": [],
   "source": [
    "pvod2.info()"
   ]
  },
  {
   "cell_type": "markdown",
   "metadata": {},
   "source": [
    "# Heatmap of all the Features"
   ]
  },
  {
   "cell_type": "code",
   "execution_count": null,
   "metadata": {},
   "outputs": [],
   "source": [
    "from pvodataset import PVODataset\n",
    "import pandas as pd\n",
    "\n",
    "pvod = PVODataset(path=\"../datasets/\",timezone=\"UTC+8\")\n",
    "ori_data = pvod.read_ori_data(station_id=0)\n",
    "ori_data = ori_data.drop(columns='date_time')\n",
    "ori_data"
   ]
  },
  {
   "cell_type": "code",
   "execution_count": null,
   "metadata": {},
   "outputs": [],
   "source": [
    "\n",
    "\n",
    "import matplotlib.pyplot as plt\n",
    "import seaborn as sns\n",
    "import numpy as np\n",
    "plt.subplots(figsize=(16, 16))\n",
    "plt.rc('font',family='Times New Roman',size=16)\n",
    "\n",
    "sns.heatmap(ori_data.corr(), center=0, annot=True, vmax=1.0, vmin=-1,square = True,cmap=\"Blues\")\n",
    "plt.title(\"Heatmap of the Features of PVOD\", fontsize = 18)\n",
    "# plt.savefig( 'corr.pdf', bbox_inches='tight',format='pdf')\n",
    "plt.savefig( 'corr.png', bbox_inches='tight')\n",
    "\n",
    "plt.show()"
   ]
  },
  {
   "cell_type": "code",
   "execution_count": null,
   "metadata": {},
   "outputs": [],
   "source": []
  }
 ],
 "metadata": {
  "kernelspec": {
   "display_name": "venv",
   "language": "python",
   "name": "python3"
  },
  "language_info": {
   "codemirror_mode": {
    "name": "ipython",
    "version": 3
   },
   "file_extension": ".py",
   "mimetype": "text/x-python",
   "name": "python",
   "nbconvert_exporter": "python",
   "pygments_lexer": "ipython3",
   "version": "3.12.7"
  }
 },
 "nbformat": 4,
 "nbformat_minor": 2
}
